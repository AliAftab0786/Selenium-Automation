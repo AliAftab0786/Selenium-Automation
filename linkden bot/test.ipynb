{
 "cells": [
  {
   "cell_type": "code",
   "execution_count": 1,
   "metadata": {},
   "outputs": [],
   "source": [
    "from utils import *"
   ]
  },
  {
   "cell_type": "code",
   "execution_count": 2,
   "metadata": {},
   "outputs": [],
   "source": [
    "def openchrome(url):\n",
    "    try:\n",
    "        print(\"Opening Chrome Browser...\")\n",
    "        # Set Chrome options\n",
    "        options = webdriver.ChromeOptions()\n",
    "        \n",
    "        # Specify the user agent\n",
    "        user_agent = \"Mozilla/5.0 (Windows NT 10.0; Win64; x64) AppleWebKit/537.36 (KHTML, like Gecko) Chrome/58.0.3029.110 Safari/537.3\"\n",
    "        options.add_argument(f'user-agent={user_agent}')\n",
    "        \n",
    "        service = Service(ChromeDriverManager().install())\n",
    "        driver = webdriver.Chrome(service=service, options=options)  \n",
    "        \n",
    "        # Maximizing the window to avoid detection as a bot\n",
    "        driver.maximize_window()\n",
    "        time.sleep(1)  # It's good to have a short delay, but remember that fixed sleep times can be a signal of bot activity\n",
    "        \n",
    "        # Accessing the URL\n",
    "        driver.get(url)\n",
    "        time.sleep(2)  # Again, use delays sparingly\n",
    "        print(\"Chrome Browser opened successfully.\")\n",
    "        \n",
    "        return driver\n",
    "    except Exception as e:\n",
    "        print(f\"An error occurred: {e}\")\n",
    "        if 'driver' in locals():\n",
    "            driver.quit()\n",
    "        raise"
   ]
  },
  {
   "cell_type": "code",
   "execution_count": 3,
   "metadata": {},
   "outputs": [
    {
     "name": "stdout",
     "output_type": "stream",
     "text": [
      "Opening Chrome Browser...\n",
      "Chrome Browser opened successfully.\n"
     ]
    },
    {
     "data": {
      "text/plain": [
       "<selenium.webdriver.chrome.webdriver.WebDriver (session=\"77fa988dad5d4ad58134b8e29bd3e1ce\")>"
      ]
     },
     "execution_count": 3,
     "metadata": {},
     "output_type": "execute_result"
    }
   ],
   "source": [
    "url='https://pk.linkedin.com/'\n",
    "openchrome(url)"
   ]
  },
  {
   "cell_type": "code",
   "execution_count": null,
   "metadata": {},
   "outputs": [],
   "source": []
  }
 ],
 "metadata": {
  "kernelspec": {
   "display_name": "Python 3",
   "language": "python",
   "name": "python3"
  },
  "language_info": {
   "codemirror_mode": {
    "name": "ipython",
    "version": 3
   },
   "file_extension": ".py",
   "mimetype": "text/x-python",
   "name": "python",
   "nbconvert_exporter": "python",
   "pygments_lexer": "ipython3",
   "version": "3.12.3"
  }
 },
 "nbformat": 4,
 "nbformat_minor": 2
}
